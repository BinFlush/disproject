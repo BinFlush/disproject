{
 "cells": [
  {
   "cell_type": "code",
   "execution_count": 31,
   "id": "1165bbdd",
   "metadata": {},
   "outputs": [],
   "source": [
    "import requests\n",
    "from bs4 import BeautifulSoup\n",
    "import os\n",
    "import time"
   ]
  },
  {
   "cell_type": "code",
   "execution_count": 32,
   "id": "e7593b5d",
   "metadata": {},
   "outputs": [],
   "source": [
    "# load files from pages folder\n",
    "pages = os.listdir('pages')"
   ]
  },
  {
   "cell_type": "code",
   "execution_count": 33,
   "id": "d7f5b107",
   "metadata": {},
   "outputs": [],
   "source": [
    "def soup_from_file(name):\n",
    "    with open('pages/' + name, 'r') as f:\n",
    "        return BeautifulSoup(f.read(), 'html.parser')\n",
    "    "
   ]
  },
  {
   "cell_type": "code",
   "execution_count": 34,
   "id": "b5d25762",
   "metadata": {},
   "outputs": [],
   "source": [
    "# Translate dict keys from danish to english\n",
    "def translate_dict(info_dict):\n",
    "    # Kursuskode -> Course code\n",
    "    replace_table = {\n",
    "        \"Kursuskode\": \"Course code\",\n",
    "        \"Sprog\": \"Language\",\n",
    "        \"Point\": \"Credit\",\n",
    "        \"Placering\": \"Placement\",\n",
    "        \"Skemagruppe\": \"Schedule\",\n",
    "        \"Sommer\": \"Summer\",\n",
    "        \"Vinter\": \"Winter\",\n",
    "        \"Forår\": \"Spring\",\n",
    "        \"Efterår\": \"Autumn\",\n",
    "        \"Kursusansvarlige\": \"Course Coordinators\",\n",
    "    }\n",
    "\n",
    "    new_dict = {}\n",
    "    for key, value in info_dict.items():\n",
    "        new_key = replace_table.get(key, key)\n",
    "        new_dict[new_key] = replace_table.get(value, value)\n",
    "    return new_dict\n",
    "\n"
   ]
  },
  {
   "cell_type": "code",
   "execution_count": 35,
   "id": "d56a609e",
   "metadata": {},
   "outputs": [
    {
     "name": "stdout",
     "output_type": "stream",
     "text": [
      "{'Title': 'Fødevarepolitik', 'Language': 'Dansk', 'Course code': 'NIFB21002U', 'Credit': '7,5 ECTS', 'Niveau': 'Bachelor', 'Varighed': '1 blok', 'Placement': 'Blok 2', 'Schedule': 'A (tirs 8-12 + tors 8-17)', 'Kursuskapacitet': 'Ingen begrænsning\\n\\nDer kan være færre pladser i eftertilmeldingsperioden', 'Course Coordinators': ['Carsten Daugbjerg']}\n"
     ]
    }
   ],
   "source": [
    "def extract_info(name):\n",
    "    soup = soup_from_file(name)\n",
    "    info_dict = {}\n",
    "    # Title\n",
    "    info_dict[\"Title\"] = soup.find(\"title\").text.strip()\n",
    "    # Grab all elements in panel-body and dt\n",
    "    panel_bodies = soup.find_all(\"div\", class_=\"panel-body\")\n",
    "    # find the panel body that has the dt and dd\n",
    "    panel_body = [body for body in panel_bodies if body.find_all(\"dt\")][0]\n",
    "    \n",
    "\n",
    "    # Print number of panel-bodies\n",
    "    panel_keys = panel_body.find_all(\"dt\")\n",
    "    panel_vals = panel_body.find_all(\"dd\")\n",
    "    \n",
    "    for panel_key, panel_val in zip(panel_keys, panel_vals):\n",
    "        info_dict[panel_key.text] = panel_val.text\n",
    "\n",
    "    info_dict = translate_dict(info_dict)\n",
    "\n",
    "    # If there is no schedule\n",
    "    if \"Schedule\" not in info_dict.keys():\n",
    "        if info_dict[\"Placement\"] in [\"Spring\", \"Summer\", \"Autumn\", \"Winter\"]:\n",
    "            info_dict[\"Schedule\"] = info_dict[\"Placement\"]\n",
    "        #else:\n",
    "        #    info_dict[\"Schedule\"] = None\n",
    "\n",
    "    h5s = soup.find_all(\"h5\")\n",
    "    for h5 in h5s:\n",
    "        if \"Course Coordinators\" in h5.text or \"Kursusansvarlige\" in h5.text:\n",
    "            lis = h5.find_next_sibling(\"ul\").find_all(\"li\")\n",
    "            # Remove the span tags\n",
    "            for li in lis:\n",
    "                for span in li.find_all(\"span\"):\n",
    "                    span.decompose()\n",
    "\n",
    "            \n",
    "            # Split by <li>[0]\n",
    "            info_dict[\"Course Coordinators\"] = [li.text.strip() for li in h5.find_next_sibling(\"ul\").find_all(\"li\")]\n",
    "            \n",
    "\n",
    "    # Assert that dict contains \"course code\" \n",
    "    assert_keys = [\"Course code\", \"Title\", \"Language\", \"Schedule\", \"Placement\", \"Credit\", \"Course Coordinators\", \"Lecturers\"\n",
    "    for key in assert_keys:\n",
    "        assert key in info_dict.keys(), f\"Key {key} not in dict\"\n",
    "\n",
    "    return info_dict\n",
    "\n",
    "print(extract_info(pages[1900]))"
   ]
  },
  {
   "cell_type": "code",
   "execution_count": 36,
   "id": "22a3c036",
   "metadata": {},
   "outputs": [
    {
     "name": "stdout",
     "output_type": "stream",
     "text": [
      "Error parsing APSB21015U.html: Key Schedule not in dict\n",
      "Error parsing ASDK20005U.html: Key Schedule not in dict\n",
      "Error parsing AØKK08431U.html: Key Schedule not in dict\n",
      "Error parsing AØKK08434U.html: Key Schedule not in dict\n",
      "Error parsing AØKK08436U.html: Key Schedule not in dict\n",
      "Error parsing HMØB0105FU.html: Key Credit not in dict\n",
      "Error parsing JJUA14124U.html: Key Credit not in dict\n",
      "Error parsing JJUA54019U.html: Key Credit not in dict\n",
      "Error parsing JJUA54029U.html: Key Credit not in dict\n",
      "Error parsing LSLS10132U.html: Key Schedule not in dict\n",
      "Error parsing SGBB20008E.html: Key Schedule not in dict\n",
      "Error parsing SGBK20013E.html: Key Schedule not in dict\n",
      "Error parsing SGBK20014E.html: Key Schedule not in dict\n",
      "Error parsing SGBK20015E.html: Key Schedule not in dict\n",
      "Error parsing SMEA15022E.html: Key Schedule not in dict\n",
      "Error parsing SMEA15025E.html: Key Schedule not in dict\n",
      "Error parsing SMEA15031E.html: Key Schedule not in dict\n",
      "Error parsing SMEA15033E.html: Key Schedule not in dict\n",
      "Error parsing SMEA15034E.html: Key Schedule not in dict\n",
      "Error parsing SMEA15035E.html: Key Schedule not in dict\n",
      "Error parsing SMEA15037E.html: Key Schedule not in dict\n",
      "Error parsing SMEA15043E.html: Key Schedule not in dict\n",
      "Error parsing SMEA15062E.html: Key Schedule not in dict\n",
      "Error parsing SMEA15065E.html: Key Schedule not in dict\n",
      "Error parsing SMEA20051U.html: Key Schedule not in dict\n",
      "Error parsing SMEA21001U.html: Key Schedule not in dict\n",
      "Error parsing STVA16006E.html: Key Schedule not in dict\n",
      "Error parsing TTEAERVBAU.html: Key Schedule not in dict\n",
      "Succesfully parsed 3149 out of 3177\n"
     ]
    }
   ],
   "source": [
    "succesfully_parsed = 0\n",
    "\n",
    "parsed_pages = []\n",
    "for (i, page) in enumerate(pages):\n",
    "    try:\n",
    "        parsed_pages.append(extract_info(page))\n",
    "        succesfully_parsed += 1\n",
    "    except Exception as e:\n",
    "        print('Error parsing ' + page + ': ' + str(e))\n",
    "    print(f\"Parsed {i} out of {str(len(pages))}\", end='\\r')\n",
    "print('Succesfully parsed ' + str(succesfully_parsed) + ' out of ' + str(len(pages)))"
   ]
  },
  {
   "cell_type": "code",
   "execution_count": 37,
   "id": "4b5e515c",
   "metadata": {},
   "outputs": [
    {
     "name": "stdout",
     "output_type": "stream",
     "text": [
      "Title\n",
      "Language\n",
      "Course code\n",
      "Credit\n",
      "Level\n",
      "Duration\n",
      "Placement\n",
      "Schedule\n",
      "Course Coordinators\n",
      "Niveau\n",
      "Varighed\n",
      "Kursuskapacitet\n",
      "Course capacity\n"
     ]
    }
   ],
   "source": [
    "# Print all unique keys\n",
    "all_keys = []\n",
    "for page in parsed_pages:\n",
    "    for key in page.keys():\n",
    "        if key not in all_keys:\n",
    "            all_keys.append(key)\n",
    "            print(key)"
   ]
  },
  {
   "cell_type": "code",
   "execution_count": 38,
   "id": "f4797a73",
   "metadata": {},
   "outputs": [
    {
     "name": "stdout",
     "output_type": "stream",
     "text": [
      "Title Neuroplasticitet. Hjernens foranderlighed - fra teori til praksis\n",
      "Language Dansk\n",
      "Course code SNRM20003U\n",
      "Credit 7,5 ECTS\n",
      "Niveau Master\n",
      "Varighed 1 semester\n",
      "Placement Spring\n",
      "Schedule Detaljeret program findes på e-læringsportalen\n",
      "Absalon\n",
      "Kursuskapacitet 30\n",
      "Course Coordinators ['Jens Bo Nielsen', 'Rasmus Feld Frisk']\n"
     ]
    }
   ],
   "source": [
    "for elem in parsed_pages[2900].keys():\n",
    "    print(elem, parsed_pages[2900][elem])"
   ]
  }
 ],
 "metadata": {
  "kernelspec": {
   "display_name": "assignment2-S_ksPywK",
   "language": "python",
   "name": "python3"
  },
  "language_info": {
   "codemirror_mode": {
    "name": "ipython",
    "version": 3
   },
   "file_extension": ".py",
   "mimetype": "text/x-python",
   "name": "python",
   "nbconvert_exporter": "python",
   "pygments_lexer": "ipython3",
   "version": "3.10.11"
  },
  "vscode": {
   "interpreter": {
    "hash": "f40543c41ae4628aef02d1f490c56c1da1e4eb87fa428b9180761b6ea319e997"
   }
  }
 },
 "nbformat": 4,
 "nbformat_minor": 5
}
